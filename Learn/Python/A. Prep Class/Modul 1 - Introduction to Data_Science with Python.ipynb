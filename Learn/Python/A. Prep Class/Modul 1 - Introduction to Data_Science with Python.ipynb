{
  "cells": [
    {
      "cell_type": "markdown",
      "metadata": {
        "id": "yXTIn10MZwPk"
      },
      "source": [
        "BAB 1: Dasar-dasar Python"
      ]
    },
    {
      "cell_type": "markdown",
      "metadata": {
        "id": "b30UOaDdXn55"
      },
      "source": [
        "[Python “Hello World” & Statement](https://academy.dqlab.id/main/livecode/162/306/1398?pr=0)"
      ]
    },
    {
      "cell_type": "code",
      "execution_count": 1,
      "metadata": {
        "colab": {
          "base_uri": "https://localhost:8080/"
        },
        "id": "LL2ut1KRYZJS",
        "outputId": "997a3e3f-b7e0-4f0c-b325-423697d1f928"
      },
      "outputs": [
        {
          "name": "stdout",
          "output_type": "stream",
          "text": [
            "Hello World.\n",
            "Saya Aksara, baru belajar Python.\n"
          ]
        }
      ],
      "source": [
        "print(\"Hello World.\")\n",
        "print(\"Saya Aksara, baru belajar Python.\")"
      ]
    },
    {
      "cell_type": "markdown",
      "metadata": {
        "id": "PLowWEwgZd_6"
      },
      "source": [
        "[Variables di Python](https://academy.dqlab.id/main/livecode/162/306/1399?pr=0)"
      ]
    },
    {
      "cell_type": "code",
      "execution_count": 2,
      "metadata": {
        "id": "S_aRl7WmZeYM"
      },
      "outputs": [],
      "source": [
        "bil1 \t\t= 10\n",
        "Bil_2 \t\t= 20\n",
        "Frasa \t\t= \"Halo Dunia\"\n",
        "bil1, Bil_2\t= 10, 20\n",
        "salam \t\t= \"Selamat Pagi\"; Penutup = \"Salam Sejahtera\""
      ]
    },
    {
      "cell_type": "markdown",
      "metadata": {
        "id": "HgOf2gJtZ_zo"
      },
      "source": [
        "[Comments di Python](https://academy.dqlab.id/main/livecode/162/306/1401?pr=)"
      ]
    },
    {
      "cell_type": "code",
      "execution_count": 3,
      "metadata": {
        "colab": {
          "base_uri": "https://localhost:8080/"
        },
        "id": "yw-iULNraMVQ",
        "outputId": "cd65f6a8-6165-4baf-8e08-e699c3e83c2b"
      },
      "outputs": [
        {
          "name": "stdout",
          "output_type": "stream",
          "text": [
            "jadi # digunakan untuk membuat comment pada Python\n"
          ]
        }
      ],
      "source": [
        "#perintah pada baris ini tidak mempengaruhi program\n",
        "'''\n",
        "perintah ini tidak akan dieksekusi oleh Python\n",
        "dan perintah ini juga tidak akan dieksekusi\n",
        "perintah ini juga tidak akan dieksekusi\n",
        "'''\n",
        "print(\"jadi # digunakan untuk membuat comment pada Python\")"
      ]
    },
    {
      "cell_type": "markdown",
      "metadata": {
        "id": "2YNIr_LnagIQ"
      },
      "source": [
        "BAB 2: Lanjutan Dasar-dasar Python"
      ]
    },
    {
      "cell_type": "markdown",
      "metadata": {
        "id": "ZSBKL9jbalFl"
      },
      "source": [
        "[Tugas Praktek](https://academy.dqlab.id/main/livecode/162/307/1406?pr=)"
      ]
    },
    {
      "cell_type": "code",
      "execution_count": 4,
      "metadata": {
        "colab": {
          "base_uri": "https://localhost:8080/"
        },
        "id": "IgMWGdxMaqNK",
        "outputId": "34e9f8de-6721-4490-caf3-fe7bfa43b8ad"
      },
      "outputs": [
        {
          "name": "stdout",
          "output_type": "stream",
          "text": [
            "['B', 'e', 'l', 'a', 'j', 'a', 'r', ' ', 'P', 'y', 't', 'h', 'o', 'n', ' ', 'd', 'i', ' ', 'D', 'Q', 'L', 'a', 'b', '.']\n",
            "('B', 'e', 'l', 'a', 'j', 'a', 'r', ' ', 'P', 'y', 't', 'h', 'o', 'n', ' ', 'd', 'i', ' ', 'D', 'Q', 'L', 'a', 'b', '.')\n",
            "{' ', 't', 'o', 'L', 'B', 'n', 'D', 'l', 'b', 'd', 'r', 'P', 'h', 'y', 'Q', '.', 'j', 'i', 'e', 'a'}\n"
          ]
        }
      ],
      "source": [
        "text = \"Belajar Python di DQLab.\"\n",
        "print(list(text))\n",
        "print(tuple(text))\n",
        "print(set(text))"
      ]
    },
    {
      "cell_type": "markdown",
      "metadata": {
        "id": "Zhe-qkz8a5FG"
      },
      "source": [
        "[Menggunakan Library di Python](https://academy.dqlab.id/main/livecode/162/307/1408?pr=)"
      ]
    },
    {
      "cell_type": "code",
      "execution_count": 5,
      "metadata": {
        "id": "NmRZP1aIa8Yd"
      },
      "outputs": [],
      "source": [
        "import math\n",
        "import numpy as np\n",
        "import pandas as pd\n",
        "import seaborn as sns"
      ]
    }
  ],
  "metadata": {
    "colab": {
      "collapsed_sections": [],
      "name": "Introduction to Data Science with Python.ipynb",
      "provenance": []
    },
    "kernelspec": {
      "display_name": "Python 3",
      "name": "python3"
    },
    "language_info": {
      "name": "python"
    }
  },
  "nbformat": 4,
  "nbformat_minor": 0
}
