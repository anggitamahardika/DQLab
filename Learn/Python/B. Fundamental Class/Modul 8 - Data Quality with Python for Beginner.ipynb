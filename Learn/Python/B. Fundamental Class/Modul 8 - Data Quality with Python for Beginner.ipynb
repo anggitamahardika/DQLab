{
  "nbformat": 4,
  "nbformat_minor": 0,
  "metadata": {
    "colab": {
      "provenance": []
    },
    "kernelspec": {
      "name": "python3",
      "display_name": "Python 3"
    },
    "language_info": {
      "name": "python"
    }
  },
  "cells": [
    {
      "cell_type": "markdown",
      "source": [
        "BAB 1: Data Profiling"
      ],
      "metadata": {
        "id": "-uorqh_thoqO"
      }
    },
    {
      "cell_type": "markdown",
      "source": [
        "[Importing Data](https://academy.dqlab.id/main/livecode/166/322/1513?pr=0https://)"
      ],
      "metadata": {
        "id": "7_qJQmxOhrJ0"
      }
    },
    {
      "cell_type": "code",
      "source": [
        "import pandas as pd\n",
        "import numpy as np\n",
        "import io\n",
        "import pandas_profiling\n",
        "retail_raw = pd.read_csv('https://storage.googleapis.com/dqlab-dataset/retail_raw_reduced_data_quality.csv')"
      ],
      "metadata": {
        "id": "SM9TPzX6htXs"
      },
      "execution_count": 1,
      "outputs": []
    },
    {
      "cell_type": "markdown",
      "source": [
        "[Inspeksi tipe data](https://academy.dqlab.id/main/livecode/166/322/1514?pr=0)"
      ],
      "metadata": {
        "id": "vmHc6KhbhtmN"
      }
    },
    {
      "cell_type": "code",
      "source": [
        "import pandas as pd\n",
        "import numpy as np\n",
        "import io\n",
        "import pandas_profiling\n",
        "retail_raw = pd.read_csv('https://storage.googleapis.com/dqlab-dataset/retail_raw_reduced_data_quality.csv')\n",
        "\n",
        "# Cetak tipe data di setiap kolom retail_raw\n",
        "print(retail_raw.dtypes)"
      ],
      "metadata": {
        "id": "bKXSJBpqht4R",
        "colab": {
          "base_uri": "https://localhost:8080/"
        },
        "outputId": "62420e8f-c6de-42c7-e2f6-824075be5120"
      },
      "execution_count": 2,
      "outputs": [
        {
          "output_type": "stream",
          "name": "stdout",
          "text": [
            "order_id         int64\n",
            "order_date      object\n",
            "customer_id      int64\n",
            "city            object\n",
            "province        object\n",
            "product_id      object\n",
            "brand           object\n",
            "quantity       float64\n",
            "item_price     float64\n",
            "dtype: object\n"
          ]
        }
      ]
    },
    {
      "cell_type": "markdown",
      "source": [
        "[Descriptive Statistics - Part 1](https://academy.dqlab.id/main/livecode/166/322/1515?pr=0)"
      ],
      "metadata": {
        "id": "J7gvOUUDhuFn"
      }
    },
    {
      "cell_type": "code",
      "source": [
        "import pandas as pd\n",
        "import numpy as np\n",
        "import io\n",
        "import pandas_profiling\n",
        "retail_raw = pd.read_csv('https://storage.googleapis.com/dqlab-dataset/retail_raw_reduced_data_quality.csv')\n",
        "\n",
        "# Kolom city\n",
        "length_city = len(retail_raw['city'])\n",
        "print('Length kolom city:', length_city)\n",
        "\n",
        "# Tugas Praktek: Kolom product_id\n",
        "length_product_id = len(retail_raw['product_id'])\n",
        "print('Length kolom product_id:', length_product_id)"
      ],
      "metadata": {
        "id": "vWYXdpkZhuaO",
        "colab": {
          "base_uri": "https://localhost:8080/"
        },
        "outputId": "06c95620-9ee1-4a6d-a6dc-f305988bdc82"
      },
      "execution_count": 3,
      "outputs": [
        {
          "output_type": "stream",
          "name": "stdout",
          "text": [
            "Length kolom city: 5000\n",
            "Length kolom product_id: 5000\n"
          ]
        }
      ]
    },
    {
      "cell_type": "markdown",
      "source": [
        "[Descriptive Statistics - Part 2](https://academy.dqlab.id/main/livecode/166/322/1517?pr=0)"
      ],
      "metadata": {
        "id": "djDQilQVhux1"
      }
    },
    {
      "cell_type": "code",
      "source": [
        "import pandas as pd\n",
        "import numpy as np\n",
        "import io\n",
        "import pandas_profiling\n",
        "retail_raw = pd.read_csv('https://storage.googleapis.com/dqlab-dataset/retail_raw_reduced_data_quality.csv')\n",
        "\n",
        "# Count kolom city\n",
        "count_city = retail_raw['city'].count()\n",
        "print('Count kolom count_city:', count_city)\n",
        "\n",
        "# Tugas praktek: count kolom product_id\n",
        "count_product_id = retail_raw['product_id'].count()\n",
        "print('Count kolom product_id:', count_product_id)"
      ],
      "metadata": {
        "id": "x5TbaOKwhvKI",
        "colab": {
          "base_uri": "https://localhost:8080/"
        },
        "outputId": "102eb268-5a9b-4572-ab28-8d9d85b67af6"
      },
      "execution_count": 4,
      "outputs": [
        {
          "output_type": "stream",
          "name": "stdout",
          "text": [
            "Count kolom count_city: 4984\n",
            "Count kolom product_id: 4989\n"
          ]
        }
      ]
    },
    {
      "cell_type": "markdown",
      "source": [
        "[Descriptive Statistics - Part 3](https://academy.dqlab.id/main/livecode/166/322/1519?pr=0)"
      ],
      "metadata": {
        "id": "nuG6uBYLhvZI"
      }
    },
    {
      "cell_type": "code",
      "source": [
        "import pandas as pd\n",
        "import numpy as np\n",
        "import io\n",
        "import pandas_profiling\n",
        "retail_raw = pd.read_csv('https://storage.googleapis.com/dqlab-dataset/retail_raw_reduced_data_quality.csv')\n",
        "\n",
        "# Kolom city\n",
        "length_city = len(retail_raw['city'])\n",
        "count_city = retail_raw['city'].count()\n",
        "# Kolom product id\n",
        "length_product_id = len(retail_raw['product_id'])\n",
        "count_product_id = retail_raw['product_id'].count()\n",
        "\n",
        "# Missing value pada kolom city\n",
        "number_of_missing_values_city = length_city - count_city\n",
        "ratio_of_missing_values_city = number_of_missing_values_city/length_city\n",
        "pct_of_missing_values_city = '{0:.1f}%'.format(ratio_of_missing_values_city * 100)\n",
        "print('Persentase missing value kolom city:', pct_of_missing_values_city)\n",
        "\n",
        "# Tugas praktek: Missing value pada kolom product_id\n",
        "number_of_missing_values_product_id = length_product_id - count_product_id\n",
        "ratio_of_missing_values_product_id = number_of_missing_values_product_id/length_product_id\n",
        "pct_of_missing_values_product_id = '{0:.1f}%'.format(ratio_of_missing_values_product_id * 100)\n",
        "print('Persentase missing value kolom product_id:', pct_of_missing_values_product_id)"
      ],
      "metadata": {
        "id": "dIG2VBaDhvqh",
        "colab": {
          "base_uri": "https://localhost:8080/"
        },
        "outputId": "1efc719f-0f57-4e1d-b003-070c77f8ef48"
      },
      "execution_count": 5,
      "outputs": [
        {
          "output_type": "stream",
          "name": "stdout",
          "text": [
            "Persentase missing value kolom city: 0.3%\n",
            "Persentase missing value kolom product_id: 0.2%\n"
          ]
        }
      ]
    },
    {
      "cell_type": "markdown",
      "source": [
        "[Descriptive Statistics - Part 4](https://academy.dqlab.id/main/livecode/166/322/1521?pr=0)"
      ],
      "metadata": {
        "id": "4hBi5q86hwLv"
      }
    },
    {
      "cell_type": "code",
      "source": [
        "import pandas as pd\n",
        "import numpy as np\n",
        "import io\n",
        "import pandas_profiling\n",
        "retail_raw = pd.read_csv('https://storage.googleapis.com/dqlab-dataset/retail_raw_reduced_data_quality.csv')\n",
        "\n",
        "# Deskriptif statistics kolom quantity\n",
        "print('Kolom quantity')\n",
        "print('Minimum value: ', retail_raw['quantity'].min())\n",
        "print('Maximum value: ', retail_raw['quantity'].max())\n",
        "print('Mean value: ', retail_raw['quantity'].mean())\n",
        "print('Mode value: ', retail_raw['quantity'].mode())\n",
        "print('Median value: ', retail_raw['quantity'].median())\n",
        "print('Standard Deviation value: ', retail_raw['quantity'].std())\n",
        "\n",
        "# Tugas praktek: Deskriptif statistics kolom item_price\n",
        "print('')\n",
        "print('Kolom item_price')\n",
        "print('Minimum value: ', retail_raw['item_price'].min())\n",
        "print('Maximum value: ', retail_raw['item_price'].max())\n",
        "print('Mean value: ', retail_raw['item_price'].mean())\n",
        "print('Median value: ', retail_raw['item_price'].median())\n",
        "print('Standard Deviation value: ', retail_raw['item_price'].std())"
      ],
      "metadata": {
        "id": "JJ-od5Ibhwdu",
        "colab": {
          "base_uri": "https://localhost:8080/"
        },
        "outputId": "4eac1397-782a-4c5b-baba-847715a29487"
      },
      "execution_count": 6,
      "outputs": [
        {
          "output_type": "stream",
          "name": "stdout",
          "text": [
            "Kolom quantity\n",
            "Minimum value:  1.0\n",
            "Maximum value:  720.0\n",
            "Mean value:  11.423987164059366\n",
            "Mode value:  0    1.0\n",
            "dtype: float64\n",
            "Median value:  5.0\n",
            "Standard Deviation value:  29.44202501081146\n",
            "\n",
            "Kolom item_price\n",
            "Minimum value:  26000.0\n",
            "Maximum value:  29762000.0\n",
            "Mean value:  933742.7311008623\n",
            "Median value:  604000.0\n",
            "Standard Deviation value:  1030829.8104242847\n"
          ]
        }
      ]
    },
    {
      "cell_type": "markdown",
      "source": [
        "[Descriptive Statistics - Part 5](https://academy.dqlab.id/main/livecode/166/322/1523?pr=0)"
      ],
      "metadata": {
        "id": "XtC9H2RVhw-x"
      }
    },
    {
      "cell_type": "code",
      "source": [
        "import pandas as pd\n",
        "import numpy as np\n",
        "import io\n",
        "import pandas_profiling\n",
        "retail_raw = pd.read_csv('https://storage.googleapis.com/dqlab-dataset/retail_raw_reduced_data_quality.csv')\n",
        "\n",
        "# Quantile statistics kolom quantity\n",
        "print('Kolom quantity:')\n",
        "print(retail_raw['quantity'].quantile([0.25, 0.5, 0.75]))\n",
        "\n",
        "# Tugas praktek: Quantile statistics kolom item_price\n",
        "print('')\n",
        "print('Kolom item_price:')\n",
        "print(retail_raw['item_price'].quantile([0.25, 0.5, 0.75]))"
      ],
      "metadata": {
        "id": "d7Bx2LJ1hxUg",
        "colab": {
          "base_uri": "https://localhost:8080/"
        },
        "outputId": "cff05065-734e-47da-a159-881449d516e2"
      },
      "execution_count": 7,
      "outputs": [
        {
          "output_type": "stream",
          "name": "stdout",
          "text": [
            "Kolom quantity:\n",
            "0.25     2.0\n",
            "0.50     5.0\n",
            "0.75    12.0\n",
            "Name: quantity, dtype: float64\n",
            "\n",
            "Kolom item_price:\n",
            "0.25     450000.0\n",
            "0.50     604000.0\n",
            "0.75    1045000.0\n",
            "Name: item_price, dtype: float64\n"
          ]
        }
      ]
    },
    {
      "cell_type": "markdown",
      "source": [
        "[Descriptive Statistics - Part 6](https://academy.dqlab.id/main/livecode/166/322/1526?pr=0)"
      ],
      "metadata": {
        "id": "C2pDWAn1iFWu"
      }
    },
    {
      "cell_type": "code",
      "source": [
        "import pandas as pd\n",
        "import numpy as np\n",
        "import io\n",
        "import pandas_profiling\n",
        "retail_raw = pd.read_csv('https://storage.googleapis.com/dqlab-dataset/retail_raw_reduced_data_quality.csv')\n",
        "\n",
        "print('Korelasi quantity dengan item_price')\n",
        "print(retail_raw[['quantity', 'item_price']].corr())"
      ],
      "metadata": {
        "id": "5fkQQzQ8iGAe",
        "colab": {
          "base_uri": "https://localhost:8080/"
        },
        "outputId": "0657f054-828f-4fc0-b4f4-bb31bfb6830e"
      },
      "execution_count": 8,
      "outputs": [
        {
          "output_type": "stream",
          "name": "stdout",
          "text": [
            "Korelasi quantity dengan item_price\n",
            "            quantity  item_price\n",
            "quantity    1.000000   -0.133936\n",
            "item_price -0.133936    1.000000\n"
          ]
        }
      ]
    },
    {
      "cell_type": "markdown",
      "source": [
        "BAB 2: Data Cleansing"
      ],
      "metadata": {
        "id": "XBrbb50uii9A"
      }
    },
    {
      "cell_type": "markdown",
      "source": [
        "[Missing Data](https://academy.dqlab.id/main/livecode/166/323/1529?pr=0)"
      ],
      "metadata": {
        "id": "lp4Ij9pZilKn"
      }
    },
    {
      "cell_type": "code",
      "source": [
        "import pandas as pd\n",
        "import numpy as np\n",
        "import io\n",
        "import pandas_profiling\n",
        "retail_raw = pd.read_csv('https://storage.googleapis.com/dqlab-dataset/retail_raw_reduced_data_quality.csv')\n",
        "\n",
        "# Check kolom yang memiliki missing data\n",
        "print('Check kolom yang memiliki missing data:')\n",
        "print(retail_raw.isnull().any())\n",
        "\n",
        "# Filling the missing value (imputasi)\n",
        "print('\\nFilling the missing value (imputasi):')\n",
        "print(retail_raw['quantity'].fillna(retail_raw.quantity.mean()))\n",
        "\n",
        "# Drop missing value\n",
        "print('\\nDrop missing value:')\n",
        "print(retail_raw['quantity'].dropna())"
      ],
      "metadata": {
        "id": "GFk3QX87im0J",
        "colab": {
          "base_uri": "https://localhost:8080/"
        },
        "outputId": "346b2f91-bdf0-4e7f-d03b-591b92d7e7b9"
      },
      "execution_count": 9,
      "outputs": [
        {
          "output_type": "stream",
          "name": "stdout",
          "text": [
            "Check kolom yang memiliki missing data:\n",
            "order_id       False\n",
            "order_date     False\n",
            "customer_id    False\n",
            "city            True\n",
            "province        True\n",
            "product_id      True\n",
            "brand          False\n",
            "quantity        True\n",
            "item_price      True\n",
            "dtype: bool\n",
            "\n",
            "Filling the missing value (imputasi):\n",
            "0       10.0\n",
            "1        2.0\n",
            "2        8.0\n",
            "3        4.0\n",
            "4        2.0\n",
            "        ... \n",
            "4995     2.0\n",
            "4996     3.0\n",
            "4997     4.0\n",
            "4998     8.0\n",
            "4999     1.0\n",
            "Name: quantity, Length: 5000, dtype: float64\n",
            "\n",
            "Drop missing value:\n",
            "0       10.0\n",
            "1        2.0\n",
            "2        8.0\n",
            "3        4.0\n",
            "4        2.0\n",
            "        ... \n",
            "4995     2.0\n",
            "4996     3.0\n",
            "4997     4.0\n",
            "4998     8.0\n",
            "4999     1.0\n",
            "Name: quantity, Length: 4986, dtype: float64\n"
          ]
        }
      ]
    },
    {
      "cell_type": "markdown",
      "source": [
        "[Tugas Praktek Missing Value Imputasi](https://academy.dqlab.id/main/livecode/166/323/1530?pr=0)"
      ],
      "metadata": {
        "id": "TW03VwKcinHG"
      }
    },
    {
      "cell_type": "code",
      "source": [
        "import pandas as pd\n",
        "import numpy as np\n",
        "import io\n",
        "import pandas_profiling\n",
        "retail_raw = pd.read_csv('https://storage.googleapis.com/dqlab-dataset/retail_raw_reduced_data_quality.csv')\n",
        "\n",
        "print(retail_raw['item_price'].fillna(retail_raw['item_price'].mean()))"
      ],
      "metadata": {
        "id": "J0DogcR9inZt",
        "colab": {
          "base_uri": "https://localhost:8080/"
        },
        "outputId": "b833db0d-614c-4548-b360-bb5b96fe1c51"
      },
      "execution_count": 10,
      "outputs": [
        {
          "output_type": "stream",
          "name": "stdout",
          "text": [
            "0       7.400000e+05\n",
            "1       6.040000e+05\n",
            "2       1.045000e+06\n",
            "3       2.050000e+05\n",
            "4       9.337427e+05\n",
            "            ...     \n",
            "4995    4.500000e+05\n",
            "4996    1.465000e+06\n",
            "4997    7.470000e+05\n",
            "4998    6.950000e+05\n",
            "4999    1.045000e+06\n",
            "Name: item_price, Length: 5000, dtype: float64\n"
          ]
        }
      ]
    },
    {
      "cell_type": "markdown",
      "source": [
        "[Outliers](https://academy.dqlab.id/main/livecode/166/323/1534?pr=0)"
      ],
      "metadata": {
        "id": "rMaVQAbAin3c"
      }
    },
    {
      "cell_type": "code",
      "source": [
        "import pandas as pd\n",
        "import numpy as np\n",
        "import io\n",
        "import pandas_profiling\n",
        "retail_raw = pd.read_csv('https://storage.googleapis.com/dqlab-dataset/retail_raw_reduced_data_quality.csv')\n",
        "\n",
        "# Q1, Q3, dan IQR\n",
        "Q1 = retail_raw['quantity'].quantile(0.25)\n",
        "Q3 = retail_raw['quantity'].quantile(0.75)\n",
        "IQR = Q3 - Q1\n",
        "\n",
        "# Check ukuran (baris dan kolom) sebelum data yang outliers dibuang\n",
        "print('Shape awal: ', retail_raw.shape)\n",
        "\n",
        "# Removing outliers\n",
        "retail_raw = retail_raw[~((retail_raw['quantity'] < (Q1 - 1.5 * IQR)) | (retail_raw['quantity'] > (Q3 + 1.5 * IQR)))]\n",
        "\n",
        "# Check ukuran (baris dan kolom) setelah data yang outliers dibuang\n",
        "print('Shape akhir: ', retail_raw.shape)"
      ],
      "metadata": {
        "id": "yHv-BNR8ioKv",
        "colab": {
          "base_uri": "https://localhost:8080/"
        },
        "outputId": "806550d1-fd6c-4b3b-8228-e5765e446195"
      },
      "execution_count": 11,
      "outputs": [
        {
          "output_type": "stream",
          "name": "stdout",
          "text": [
            "Shape awal:  (5000, 9)\n",
            "Shape akhir:  (4699, 9)\n"
          ]
        }
      ]
    },
    {
      "cell_type": "markdown",
      "source": [
        "[Tugas Praktek Outliers Remove](https://academy.dqlab.id/main/livecode/166/323/1535?pr=0)"
      ],
      "metadata": {
        "id": "-d-KpF5XiotL"
      }
    },
    {
      "cell_type": "code",
      "source": [
        "import pandas as pd\n",
        "import numpy as np\n",
        "import io\n",
        "import pandas_profiling\n",
        "retail_raw = pd.read_csv('https://storage.googleapis.com/dqlab-dataset/retail_raw_reduced_data_quality.csv')\n",
        "\n",
        "# Q1, Q3, dan IQR\n",
        "Q1 = retail_raw['item_price'].quantile(0.25)\n",
        "Q3 = retail_raw['item_price'].quantile(0.75)\n",
        "IQR = Q3 - Q1\n",
        "\n",
        "# Check ukuran (baris dan kolom) sebelum data yang outliers dibuang\n",
        "print('Shape awal: ', retail_raw.shape)\n",
        "\n",
        "# Removing outliers\n",
        "retail_raw = retail_raw[~((retail_raw['item_price'] < (Q1 - 1.5 * IQR)) | (retail_raw['item_price'] > (Q3 + 1.5 * IQR)))]\n",
        "\n",
        "# Check ukuran (baris dan kolom) setelah data yang outliers dibuang\n",
        "print('Shape akhir: ', retail_raw.shape)"
      ],
      "metadata": {
        "id": "ihW7nKWaipH2",
        "colab": {
          "base_uri": "https://localhost:8080/"
        },
        "outputId": "4cf35210-aef7-4a92-c29e-9aff6429792d"
      },
      "execution_count": 12,
      "outputs": [
        {
          "output_type": "stream",
          "name": "stdout",
          "text": [
            "Shape awal:  (5000, 9)\n",
            "Shape akhir:  (4541, 9)\n"
          ]
        }
      ]
    },
    {
      "cell_type": "markdown",
      "source": [
        "[Tugas Praktek Outliers Duplicates](https://academy.dqlab.id/main/livecode/166/323/1537?pr=0)"
      ],
      "metadata": {
        "id": "D9zT68UFipee"
      }
    },
    {
      "cell_type": "code",
      "source": [
        "import pandas as pd\n",
        "import numpy as np\n",
        "import io\n",
        "import pandas_profiling\n",
        "retail_raw = pd.read_csv('https://storage.googleapis.com/dqlab-dataset/retail_raw_reduced_data_quality.csv')\n",
        "\n",
        "# Check ukuran (baris dan kolom) sebelum data duplikasi dibuang\n",
        "print('Shape awal: ', retail_raw.shape)\n",
        "\n",
        "# Buang data yang terduplikasi\n",
        "retail_raw.drop_duplicates(inplace=True)\n",
        "\n",
        "# Check ukuran (baris dan kolom) setelah data duplikasi dibuang\n",
        "print('Shape akhir: ', retail_raw.shape)"
      ],
      "metadata": {
        "id": "K1ur6yQ3ip8M",
        "colab": {
          "base_uri": "https://localhost:8080/"
        },
        "outputId": "5201d824-5ea2-407e-80e3-7d4c18e10c17"
      },
      "execution_count": 13,
      "outputs": [
        {
          "output_type": "stream",
          "name": "stdout",
          "text": [
            "Shape awal:  (5000, 9)\n",
            "Shape akhir:  (4993, 9)\n"
          ]
        }
      ]
    },
    {
      "cell_type": "markdown",
      "source": [
        "BAB 3: Mini Project"
      ],
      "metadata": {
        "id": "gJ1lHnBnjCbz"
      }
    },
    {
      "cell_type": "markdown",
      "source": [
        "[Case Studi: Data Profiling](https://academy.dqlab.id/main/livecode/166/324/1532?pr=0)"
      ],
      "metadata": {
        "id": "pkH_asWLjFiB"
      }
    },
    {
      "cell_type": "code",
      "source": [
        "import pandas as pd\n",
        "import numpy as np\n",
        "import io\n",
        "import pandas_profiling\n",
        "\n",
        "# Baca dataset uncleaned_raw.csv\n",
        "uncleaned_raw = pd.read_csv('https://storage.googleapis.com/dqlab-dataset/uncleaned_raw.csv')\n",
        "\n",
        "#inspeksi dataframe uncleaned_raw\n",
        "print('Lima data teratas:') \n",
        "print(uncleaned_raw.head())\n",
        "\n",
        "#Check kolom yang mengandung missing value\n",
        "print('\\nKolom dengan missing value:') \n",
        "print(uncleaned_raw.isnull().any())\n",
        "\n",
        "#Persentase missing value\n",
        "length_qty = len(uncleaned_raw['Quantity'])\n",
        "count_qty = uncleaned_raw['Quantity'].count()\n",
        "\n",
        "#mengurangi length dengan count\n",
        "number_of_missing_values_qty = length_qty - count_qty\n",
        "\n",
        "#mengubah ke bentuk float\n",
        "float_of_missing_values_qty = float(number_of_missing_values_qty / length_qty) \n",
        "\n",
        "#mengubah ke dalam bentuk persen\n",
        "pct_of_missing_values_qty = '{0:.1f}%'.format(float_of_missing_values_qty*100) \n",
        "\n",
        "#print hasil percent dari missing value\n",
        "print('Persentase missing value kolom Quantity:', pct_of_missing_values_qty)\n",
        "\n",
        "#Mengisi missing value tersebut dengan mean dari kolom tersebut\n",
        "uncleaned_raw['Quantity'] = uncleaned_raw['Quantity'].fillna(uncleaned_raw['Quantity'].mean())"
      ],
      "metadata": {
        "id": "2IiVXCGzjLg2",
        "colab": {
          "base_uri": "https://localhost:8080/"
        },
        "outputId": "e859321e-9da5-41be-c60a-b474f806000c"
      },
      "execution_count": 14,
      "outputs": [
        {
          "output_type": "stream",
          "name": "stdout",
          "text": [
            "Lima data teratas:\n",
            "   InvoiceNo                          Description  Quantity     InvoiceDate  \\\n",
            "0     536365   WHITE HANGING HEART T-LIGHT HOLDER       6.0  12/01/10 08.26   \n",
            "1     536366                  WHITE METAL LANTERN       6.0  12/01/10 08.26   \n",
            "2     536367       CREAM CUPID HEARTS COAT HANGER       8.0  12/01/10 08.26   \n",
            "3     536368  KNITTED UNION FLAG HOT WATER BOTTLE       6.0  12/01/10 08.26   \n",
            "4     536369       RED WOOLLY HOTTIE WHITE HEART.       6.0  12/01/10 08.26   \n",
            "\n",
            "   UnitPrice  CustomerID      City  \n",
            "0      29000       17850  Surabaya  \n",
            "1      41000       17850  Surabaya  \n",
            "2      18000       17850  Surabaya  \n",
            "3      38000       17850   Jakarta  \n",
            "4      27000       17850     Medan  \n",
            "\n",
            "Kolom dengan missing value:\n",
            "InvoiceNo      False\n",
            "Description    False\n",
            "Quantity        True\n",
            "InvoiceDate    False\n",
            "UnitPrice      False\n",
            "CustomerID     False\n",
            "City           False\n",
            "dtype: bool\n",
            "Persentase missing value kolom Quantity: 4.0%\n"
          ]
        }
      ]
    },
    {
      "cell_type": "markdown",
      "source": [
        "[Case Study: Data Cleansing - Part 1](https://academy.dqlab.id/main/livecode/166/324/2602?pr=0)"
      ],
      "metadata": {
        "id": "YYIdDoMMjHJi"
      }
    },
    {
      "cell_type": "code",
      "source": [
        "import pandas as pd\n",
        "import numpy as np\n",
        "import io\n",
        "import pandas_profiling\n",
        "import matplotlib.pyplot as plt\n",
        "\n",
        "plt.style.use('default')\n",
        "\n",
        "uncleaned_raw = pd.read_csv('https://storage.googleapis.com/dqlab-dataset/uncleaned_raw.csv')\n",
        "uncleaned_raw['Quantity'] = uncleaned_raw['Quantity'].fillna(uncleaned_raw['Quantity'].mean())\n",
        "\n",
        "#Mengetahui kolom yang memiliki outliers!\n",
        "uncleaned_raw.boxplot()\n",
        "plt.show()"
      ],
      "metadata": {
        "id": "y6q1nuwpjK_8"
      },
      "execution_count": 16,
      "outputs": []
    },
    {
      "cell_type": "markdown",
      "source": [
        "[Case Study: Data Cleansing - Part 2](https://academy.dqlab.id/main/livecode/166/324/2603?pr=0)"
      ],
      "metadata": {
        "id": "cMYtzo9bjJSr"
      }
    },
    {
      "cell_type": "code",
      "source": [
        "import pandas as pd\n",
        "import numpy as np\n",
        "import io\n",
        "import pandas_profiling\n",
        "\n",
        "# Baca dataset uncleaned_raw.csv\n",
        "uncleaned_raw = pd.read_csv('https://storage.googleapis.com/dqlab-dataset/uncleaned_raw.csv')\n",
        "\n",
        "#Check IQR\n",
        "Q1 = uncleaned_raw['UnitPrice'].quantile(0.25)\n",
        "Q3 = uncleaned_raw['UnitPrice'].quantile(0.75)\n",
        "IQR = Q3 - Q1\n",
        "\n",
        "#removing outliers\n",
        "uncleaned_raw = uncleaned_raw[~((uncleaned_raw[['UnitPrice']] < (Q1 - 1.5 * IQR)) | (uncleaned_raw[['UnitPrice']] > (Q3 + 1.5 * IQR)))]\n",
        "\n",
        "#check for duplication\n",
        "print(uncleaned_raw.duplicated(subset=None))\n",
        "\n",
        "#remove duplication\n",
        "uncleaned_raw = uncleaned_raw.drop_duplicates()"
      ],
      "metadata": {
        "id": "VcnPbdIqjKEa",
        "colab": {
          "base_uri": "https://localhost:8080/"
        },
        "outputId": "702f7483-1e21-410d-c655-300c07971a2b"
      },
      "execution_count": 17,
      "outputs": [
        {
          "output_type": "stream",
          "name": "stdout",
          "text": [
            "0      False\n",
            "1      False\n",
            "2      False\n",
            "3      False\n",
            "4      False\n",
            "       ...  \n",
            "500     True\n",
            "501     True\n",
            "502     True\n",
            "503     True\n",
            "504     True\n",
            "Length: 505, dtype: bool\n"
          ]
        }
      ]
    }
  ]
}