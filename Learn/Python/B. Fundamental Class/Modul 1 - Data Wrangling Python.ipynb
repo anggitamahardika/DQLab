{
  "nbformat": 4,
  "nbformat_minor": 0,
  "metadata": {
    "colab": {
      "name": "Data Wrangling Python.ipynb",
      "provenance": []
    },
    "kernelspec": {
      "name": "python3",
      "display_name": "Python 3"
    },
    "language_info": {
      "name": "python"
    }
  },
  "cells": [
    {
      "cell_type": "markdown",
      "source": [
        "BAB 1: Cara Membaca Data Menggunakan Pandas"
      ],
      "metadata": {
        "id": "wNlr7JLTAx7R"
      }
    },
    {
      "cell_type": "markdown",
      "source": [
        "[Membaca file dengan menggunakan pandas](https://academy.dqlab.id/main/livecode/79/142/578?pr=0)"
      ],
      "metadata": {
        "id": "QgPGTUB5_Mnn"
      }
    },
    {
      "cell_type": "code",
      "source": [
        "import pandas as pd\n",
        "\n",
        "csv_data = pd.read_csv(\"https://storage.googleapis.com/dqlab-dataset/shopping_data.csv\")\n",
        "\n",
        "print(csv_data)"
      ],
      "metadata": {
        "colab": {
          "base_uri": "https://localhost:8080/"
        },
        "id": "57k_mrEJ_Zmj",
        "outputId": "5f7eea9c-3d27-47c2-db3b-b80ce2f17a8c"
      },
      "execution_count": 1,
      "outputs": [
        {
          "output_type": "stream",
          "name": "stdout",
          "text": [
            "     CustomerID   Genre  Age  Annual Income (k$)  Spending Score (1-100)\n",
            "0             1    Male   19                  15                      39\n",
            "1             2    Male   21                  15                      81\n",
            "2             3  Female   20                  16                       6\n",
            "3             4  Female   23                  16                      77\n",
            "4             5  Female   31                  17                      40\n",
            "..          ...     ...  ...                 ...                     ...\n",
            "195         196  Female   35                 120                      79\n",
            "196         197  Female   45                 126                      28\n",
            "197         198    Male   32                 126                      74\n",
            "198         199    Male   32                 137                      18\n",
            "199         200    Male   30                 137                      83\n",
            "\n",
            "[200 rows x 5 columns]\n"
          ]
        }
      ]
    },
    {
      "cell_type": "markdown",
      "source": [
        "[Membaca file dengan menggunakan head()](https://academy.dqlab.id/main/livecode/79/142/579?pr=0)"
      ],
      "metadata": {
        "id": "RxOhEXM8_aFc"
      }
    },
    {
      "cell_type": "code",
      "source": [
        "import pandas as pd\n",
        "\n",
        "csv_data = pd.read_csv(\"https://storage.googleapis.com/dqlab-dataset/shopping_data.csv\")\n",
        "\n",
        "print(csv_data.head())"
      ],
      "metadata": {
        "colab": {
          "base_uri": "https://localhost:8080/"
        },
        "id": "h0ScE9Ga_h3f",
        "outputId": "9fbf7ade-4b14-4546-d777-f0e7e74f403a"
      },
      "execution_count": 2,
      "outputs": [
        {
          "output_type": "stream",
          "name": "stdout",
          "text": [
            "   CustomerID   Genre  Age  Annual Income (k$)  Spending Score (1-100)\n",
            "0           1    Male   19                  15                      39\n",
            "1           2    Male   21                  15                      81\n",
            "2           3  Female   20                  16                       6\n",
            "3           4  Female   23                  16                      77\n",
            "4           5  Female   31                  17                      40\n"
          ]
        }
      ]
    },
    {
      "cell_type": "markdown",
      "source": [
        "[Melakukan akses data kolom](https://academy.dqlab.id/main/livecode/79/142/580?pr=0)"
      ],
      "metadata": {
        "id": "-AlN4Sg__iM6"
      }
    },
    {
      "cell_type": "code",
      "source": [
        "import pandas as pd\n",
        "\n",
        "csv_data = pd.read_csv(\"https://storage.googleapis.com/dqlab-dataset/shopping_data.csv\")\n",
        "\n",
        "print(csv_data[\"Age\"])"
      ],
      "metadata": {
        "colab": {
          "base_uri": "https://localhost:8080/"
        },
        "id": "v17EnLtb_q-c",
        "outputId": "0998e528-9fae-4153-9e97-4a827da7ddb5"
      },
      "execution_count": 3,
      "outputs": [
        {
          "output_type": "stream",
          "name": "stdout",
          "text": [
            "0      19\n",
            "1      21\n",
            "2      20\n",
            "3      23\n",
            "4      31\n",
            "       ..\n",
            "195    35\n",
            "196    45\n",
            "197    32\n",
            "198    32\n",
            "199    30\n",
            "Name: Age, Length: 200, dtype: int64\n"
          ]
        }
      ]
    },
    {
      "cell_type": "markdown",
      "source": [
        "[Melakukan akses data melalui baris](https://academy.dqlab.id/main/livecode/79/142/581?pr=0)"
      ],
      "metadata": {
        "id": "xzS-XVqL_rak"
      }
    },
    {
      "cell_type": "code",
      "source": [
        "import pandas as pd\n",
        "\n",
        "csv_data = pd.read_csv(\"https://storage.googleapis.com/dqlab-dataset/shopping_data.csv\")\n",
        "\n",
        "print(csv_data.iloc[5])"
      ],
      "metadata": {
        "colab": {
          "base_uri": "https://localhost:8080/"
        },
        "id": "2Bnigpc1_y9y",
        "outputId": "16909192-91aa-46a5-ce22-b057409f97df"
      },
      "execution_count": 4,
      "outputs": [
        {
          "output_type": "stream",
          "name": "stdout",
          "text": [
            "CustomerID                     6\n",
            "Genre                     Female\n",
            "Age                           22\n",
            "Annual Income (k$)            17\n",
            "Spending Score (1-100)        76\n",
            "Name: 5, dtype: object\n"
          ]
        }
      ]
    },
    {
      "cell_type": "markdown",
      "source": [
        "[Menampilkan suatu data dari baris dan kolom tertentu](https://academy.dqlab.id/main/livecode/79/142/582?pr=0)"
      ],
      "metadata": {
        "id": "I8kwa_ge_zf2"
      }
    },
    {
      "cell_type": "code",
      "source": [
        "import pandas as pd\n",
        "\n",
        "csv_data = pd.read_csv(\"https://storage.googleapis.com/dqlab-dataset/shopping_data.csv\")\n",
        "\n",
        "print(csv_data[\"Age\"].iloc[1])\n",
        "\n",
        "print(\"Cuplikan Dataset:\")\n",
        "\n",
        "print(csv_data.head())"
      ],
      "metadata": {
        "id": "bA56Reod_5cz"
      },
      "execution_count": null,
      "outputs": []
    },
    {
      "cell_type": "markdown",
      "source": [
        "[Menampilkan data dalam range tertentu](https://academy.dqlab.id/main/livecode/79/142/583?pr=0)"
      ],
      "metadata": {
        "id": "uhQWKwp7_5zi"
      }
    },
    {
      "cell_type": "code",
      "source": [
        "import pandas as pd\n",
        "\n",
        "csv_data = pd.read_csv(\"https://storage.googleapis.com/dqlab-dataset/shopping_data.csv\")\n",
        "\n",
        "print(\"Menampilkan data ke 5 sampai kurang dari 10 dalam satu baris:\")\n",
        "\n",
        "print(csv_data.iloc[5:10])"
      ],
      "metadata": {
        "colab": {
          "base_uri": "https://localhost:8080/"
        },
        "id": "ftkEq2T1_-kN",
        "outputId": "9a77e68a-7e34-450d-d2b9-bb93fe9995d0"
      },
      "execution_count": 5,
      "outputs": [
        {
          "output_type": "stream",
          "name": "stdout",
          "text": [
            "Menampilkan data ke 5 sampai kurang dari 10 dalam satu baris:\n",
            "   CustomerID   Genre  Age  Annual Income (k$)  Spending Score (1-100)\n",
            "5           6  Female   22                  17                      76\n",
            "6           7  Female   35                  18                       6\n",
            "7           8  Female   23                  18                      94\n",
            "8           9    Male   64                  19                       3\n",
            "9          10  Female   30                  19                      72\n"
          ]
        }
      ]
    },
    {
      "cell_type": "markdown",
      "source": [
        "[Menampilkan informasi statistik dengan Numpy](https://academy.dqlab.id/main/livecode/79/142/584?pr=0)"
      ],
      "metadata": {
        "id": "ZW0cyzbU_-46"
      }
    },
    {
      "cell_type": "code",
      "source": [
        "import pandas as pd\n",
        "\n",
        "csv_data = pd.read_csv(\"https://storage.googleapis.com/dqlab-dataset/shopping_data.csv\")\n",
        "\n",
        "print(csv_data.describe(exclude=[\"O\"]))"
      ],
      "metadata": {
        "colab": {
          "base_uri": "https://localhost:8080/"
        },
        "id": "wvBuvqe4AEne",
        "outputId": "1a33a900-ec33-4263-a159-f1711cc85cba"
      },
      "execution_count": 6,
      "outputs": [
        {
          "output_type": "stream",
          "name": "stdout",
          "text": [
            "       CustomerID         Age  Annual Income (k$)  Spending Score (1-100)\n",
            "count  200.000000  200.000000          200.000000              200.000000\n",
            "mean   100.500000   38.850000           60.560000               50.200000\n",
            "std     57.879185   13.969007           26.264721               25.823522\n",
            "min      1.000000   18.000000           15.000000                1.000000\n",
            "25%     50.750000   28.750000           41.500000               34.750000\n",
            "50%    100.500000   36.000000           61.500000               50.000000\n",
            "75%    150.250000   49.000000           78.000000               73.000000\n",
            "max    200.000000   70.000000          137.000000               99.000000\n"
          ]
        }
      ]
    },
    {
      "cell_type": "markdown",
      "source": [
        "BAB 2: Data Missing Hingga Normalisasi Data"
      ],
      "metadata": {
        "id": "e_CnilEOAJHe"
      }
    },
    {
      "cell_type": "markdown",
      "source": [
        "[Melakukan pengecekan untuk nilai NULL yang ada](https://academy.dqlab.id/main/livecode/79/144/586?pr=0)"
      ],
      "metadata": {
        "id": "XiyXvfw6APMB"
      }
    },
    {
      "cell_type": "code",
      "source": [
        "import pandas as pd\n",
        "\n",
        "csv_data = pd.read_csv(\"https://storage.googleapis.com/dqlab-dataset/shopping_data_missingvalue.csv\")\n",
        "\n",
        "print(csv_data.isnull().values.any())"
      ],
      "metadata": {
        "colab": {
          "base_uri": "https://localhost:8080/"
        },
        "id": "h41yHrAVAUIA",
        "outputId": "80b7b205-e361-420b-da3c-fcbb1d758a9d"
      },
      "execution_count": 7,
      "outputs": [
        {
          "output_type": "stream",
          "name": "stdout",
          "text": [
            "True\n"
          ]
        }
      ]
    },
    {
      "cell_type": "markdown",
      "source": [
        "[Mengisi dengan Mean](https://academy.dqlab.id/main/livecode/79/144/588?pr=0)"
      ],
      "metadata": {
        "id": "6CnYjj7GAUh6"
      }
    },
    {
      "cell_type": "code",
      "source": [
        "import pandas as pd\n",
        "\n",
        "csv_data = pd.read_csv(\"https://storage.googleapis.com/dqlab-dataset/shopping_data_missingvalue.csv\")\n",
        "print(csv_data.mean())\n",
        "print(\"Dataset yang masih terdapat nilai kosong ! :\")\n",
        "print(csv_data.head(10))\n",
        "\n",
        "csv_data=csv_data.fillna(csv_data.mean())\n",
        "print(\"Dataset yang sudah diproses Handling Missing Values dengan Mean :\")\n",
        "print(csv_data.head(10))"
      ],
      "metadata": {
        "colab": {
          "base_uri": "https://localhost:8080/"
        },
        "id": "_gkvCSzXAb_c",
        "outputId": "9eb09ef6-ca2d-468b-b365-847f2825619b"
      },
      "execution_count": 8,
      "outputs": [
        {
          "output_type": "stream",
          "name": "stdout",
          "text": [
            "CustomerID                100.500000\n",
            "Age                        38.939698\n",
            "Annual Income (k$)         61.005051\n",
            "Spending Score (1-100)     50.489899\n",
            "dtype: float64\n",
            "Dataset yang masih terdapat nilai kosong ! :\n",
            "   CustomerID   Genre   Age  Annual Income (k$)  Spending Score (1-100)\n",
            "0           1    Male  19.0                15.0                    39.0\n",
            "1           2    Male   NaN                15.0                    81.0\n",
            "2           3  Female  20.0                 NaN                     6.0\n",
            "3           4  Female  23.0                16.0                    77.0\n",
            "4           5  Female  31.0                17.0                     NaN\n",
            "5           6  Female  22.0                 NaN                    76.0\n",
            "6           7  Female  35.0                18.0                     6.0\n",
            "7           8  Female  23.0                18.0                    94.0\n",
            "8           9    Male  64.0                19.0                     NaN\n",
            "9          10  Female  30.0                19.0                    72.0\n",
            "Dataset yang sudah diproses Handling Missing Values dengan Mean :\n",
            "   CustomerID   Genre        Age  Annual Income (k$)  Spending Score (1-100)\n",
            "0           1    Male  19.000000           15.000000               39.000000\n",
            "1           2    Male  38.939698           15.000000               81.000000\n",
            "2           3  Female  20.000000           61.005051                6.000000\n",
            "3           4  Female  23.000000           16.000000               77.000000\n",
            "4           5  Female  31.000000           17.000000               50.489899\n",
            "5           6  Female  22.000000           61.005051               76.000000\n",
            "6           7  Female  35.000000           18.000000                6.000000\n",
            "7           8  Female  23.000000           18.000000               94.000000\n",
            "8           9    Male  64.000000           19.000000               50.489899\n",
            "9          10  Female  30.000000           19.000000               72.000000\n"
          ]
        },
        {
          "output_type": "stream",
          "name": "stderr",
          "text": [
            "/usr/local/lib/python3.7/dist-packages/ipykernel_launcher.py:4: FutureWarning: Dropping of nuisance columns in DataFrame reductions (with 'numeric_only=None') is deprecated; in a future version this will raise TypeError.  Select only valid columns before calling the reduction.\n",
            "  after removing the cwd from sys.path.\n",
            "/usr/local/lib/python3.7/dist-packages/ipykernel_launcher.py:8: FutureWarning: Dropping of nuisance columns in DataFrame reductions (with 'numeric_only=None') is deprecated; in a future version this will raise TypeError.  Select only valid columns before calling the reduction.\n",
            "  \n"
          ]
        }
      ]
    },
    {
      "cell_type": "markdown",
      "source": [
        "[Mengisi dengan Median](https://academy.dqlab.id/main/livecode/79/144/589?pr=0)"
      ],
      "metadata": {
        "id": "dZA6-S_nAcdB"
      }
    },
    {
      "cell_type": "code",
      "source": [
        "import pandas as pd\n",
        "\n",
        "csv_data = pd.read_csv(\"https://storage.googleapis.com/dqlab-dataset/shopping_data_missingvalue.csv\")\n",
        "print(csv_data.mean())\n",
        "print(\"Dataset yang masih terdapat nilai kosong ! :\")\n",
        "print(csv_data.head(10))\n",
        "\n",
        "csv_data=csv_data.fillna(csv_data.mean())\n",
        "print(\"Dataset yang sudah diproses Handling Missing Values dengan Mean :\")\n",
        "print(csv_data.head(10))"
      ],
      "metadata": {
        "colab": {
          "base_uri": "https://localhost:8080/"
        },
        "id": "biRC5slkAi8L",
        "outputId": "a586d05a-c58a-4c65-b5b9-2709aa1d874c"
      },
      "execution_count": 9,
      "outputs": [
        {
          "output_type": "stream",
          "name": "stdout",
          "text": [
            "CustomerID                100.500000\n",
            "Age                        38.939698\n",
            "Annual Income (k$)         61.005051\n",
            "Spending Score (1-100)     50.489899\n",
            "dtype: float64\n",
            "Dataset yang masih terdapat nilai kosong ! :\n",
            "   CustomerID   Genre   Age  Annual Income (k$)  Spending Score (1-100)\n",
            "0           1    Male  19.0                15.0                    39.0\n",
            "1           2    Male   NaN                15.0                    81.0\n",
            "2           3  Female  20.0                 NaN                     6.0\n",
            "3           4  Female  23.0                16.0                    77.0\n",
            "4           5  Female  31.0                17.0                     NaN\n",
            "5           6  Female  22.0                 NaN                    76.0\n",
            "6           7  Female  35.0                18.0                     6.0\n",
            "7           8  Female  23.0                18.0                    94.0\n",
            "8           9    Male  64.0                19.0                     NaN\n",
            "9          10  Female  30.0                19.0                    72.0\n",
            "Dataset yang sudah diproses Handling Missing Values dengan Mean :\n",
            "   CustomerID   Genre        Age  Annual Income (k$)  Spending Score (1-100)\n",
            "0           1    Male  19.000000           15.000000               39.000000\n",
            "1           2    Male  38.939698           15.000000               81.000000\n",
            "2           3  Female  20.000000           61.005051                6.000000\n",
            "3           4  Female  23.000000           16.000000               77.000000\n",
            "4           5  Female  31.000000           17.000000               50.489899\n",
            "5           6  Female  22.000000           61.005051               76.000000\n",
            "6           7  Female  35.000000           18.000000                6.000000\n",
            "7           8  Female  23.000000           18.000000               94.000000\n",
            "8           9    Male  64.000000           19.000000               50.489899\n",
            "9          10  Female  30.000000           19.000000               72.000000\n"
          ]
        },
        {
          "output_type": "stream",
          "name": "stderr",
          "text": [
            "/usr/local/lib/python3.7/dist-packages/ipykernel_launcher.py:4: FutureWarning: Dropping of nuisance columns in DataFrame reductions (with 'numeric_only=None') is deprecated; in a future version this will raise TypeError.  Select only valid columns before calling the reduction.\n",
            "  after removing the cwd from sys.path.\n",
            "/usr/local/lib/python3.7/dist-packages/ipykernel_launcher.py:8: FutureWarning: Dropping of nuisance columns in DataFrame reductions (with 'numeric_only=None') is deprecated; in a future version this will raise TypeError.  Select only valid columns before calling the reduction.\n",
            "  \n"
          ]
        }
      ]
    },
    {
      "cell_type": "markdown",
      "source": [
        "[Praktek Normalisasi menggunakan Scikit Learn pada Python](https://academy.dqlab.id/main/livecode/79/144/593?pr=0)"
      ],
      "metadata": {
        "id": "4MWIpMgEAjNa"
      }
    },
    {
      "cell_type": "code",
      "source": [
        "import pandas as pd\n",
        "import numpy as np\n",
        "from sklearn import preprocessing\n",
        "\n",
        "csv_data = pd.read_csv(\"https://storage.googleapis.com/dqlab-dataset/shopping_data.csv\")\n",
        "array = csv_data.values\n",
        "X = array[:,2:5] #memisahkan fitur dari dataset\n",
        "Y = array[:,0:1]  #memisahkan class dari dataset\n",
        "dataset=pd.DataFrame({\"Customer ID\":array[:,0],\"Gender\":array[:,1],\"Age\":array[:,2],\"Income\":array[:,3],\"Spending Score\":array[:,4]})\n",
        "print(\"dataset sebelum dinormalisasi :\")\n",
        "print(dataset.head(10))\n",
        "min_max_scaler = preprocessing.MinMaxScaler(feature_range=(0,1)) #inisialisasi normalisasi MinMax\n",
        "data = min_max_scaler.fit_transform(X) #transformasi MinMax untuk fitur\n",
        "dataset = pd.DataFrame({\"Age\":data[:,0],\"Income\":data[:,1],\"Spending Score\":data[:,2],\"Customer ID\":array[:,0],\"Gender\":array[:,1]})\n",
        "print(\"dataset setelah dinormalisasi :\")\n",
        "print(dataset.head(10))\n"
      ],
      "metadata": {
        "colab": {
          "base_uri": "https://localhost:8080/"
        },
        "id": "G6E43iS4AsQY",
        "outputId": "b854ce15-b78f-47e6-96cd-65b9a824a2ee"
      },
      "execution_count": 10,
      "outputs": [
        {
          "output_type": "stream",
          "name": "stdout",
          "text": [
            "dataset sebelum dinormalisasi :\n",
            "  Customer ID  Gender Age Income Spending Score\n",
            "0           1    Male  19     15             39\n",
            "1           2    Male  21     15             81\n",
            "2           3  Female  20     16              6\n",
            "3           4  Female  23     16             77\n",
            "4           5  Female  31     17             40\n",
            "5           6  Female  22     17             76\n",
            "6           7  Female  35     18              6\n",
            "7           8  Female  23     18             94\n",
            "8           9    Male  64     19              3\n",
            "9          10  Female  30     19             72\n",
            "dataset setelah dinormalisasi :\n",
            "        Age    Income  Spending Score Customer ID  Gender\n",
            "0  0.019231  0.000000        0.387755           1    Male\n",
            "1  0.057692  0.000000        0.816327           2    Male\n",
            "2  0.038462  0.008197        0.051020           3  Female\n",
            "3  0.096154  0.008197        0.775510           4  Female\n",
            "4  0.250000  0.016393        0.397959           5  Female\n",
            "5  0.076923  0.016393        0.765306           6  Female\n",
            "6  0.326923  0.024590        0.051020           7  Female\n",
            "7  0.096154  0.024590        0.948980           8  Female\n",
            "8  0.884615  0.032787        0.020408           9    Male\n",
            "9  0.230769  0.032787        0.724490          10  Female\n"
          ]
        }
      ]
    }
  ]
}