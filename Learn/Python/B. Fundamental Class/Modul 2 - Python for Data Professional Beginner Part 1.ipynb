{
  "nbformat": 4,
  "nbformat_minor": 0,
  "metadata": {
    "colab": {
      "name": "Python for Data Professional Beginner - Part 1.ipynb",
      "provenance": []
    },
    "kernelspec": {
      "name": "python3",
      "display_name": "Python 3"
    },
    "language_info": {
      "name": "python"
    }
  },
  "cells": [
    {
      "cell_type": "markdown",
      "source": [
        "BAB 1: Mari Mengenal Python"
      ],
      "metadata": {
        "id": "jXrlcLa8CXeA"
      }
    },
    {
      "cell_type": "markdown",
      "source": [
        "[Program pertama: \"Hello World](https://academy.dqlab.id/main/livecode/157/283/1247?pr=0)"
      ],
      "metadata": {
        "id": "y56Ei0wDCjTS"
      }
    },
    {
      "cell_type": "code",
      "source": [
        "print(\"Hello World!\")"
      ],
      "metadata": {
        "colab": {
          "base_uri": "https://localhost:8080/"
        },
        "id": "OPmEE5fFCsPh",
        "outputId": "1855c8e8-a77c-4437-fe93-ed1a5051ae88"
      },
      "execution_count": 1,
      "outputs": [
        {
          "output_type": "stream",
          "name": "stdout",
          "text": [
            "Hello World!\n"
          ]
        }
      ]
    },
    {
      "cell_type": "markdown",
      "source": [
        "[Program Pertamaku](https://academy.dqlab.id/main/livecode/157/283/1248?pr=0)"
      ],
      "metadata": {
        "id": "SzyiVxI3CspG"
      }
    },
    {
      "cell_type": "code",
      "source": [
        "print(\"Halo Dunia\")\n",
        "print(\"Riset Bahasa Python\")"
      ],
      "metadata": {
        "colab": {
          "base_uri": "https://localhost:8080/"
        },
        "id": "P9kC1W9_Cz9-",
        "outputId": "dabc23ae-ef7e-40bd-8f01-a864f10f8903"
      },
      "execution_count": 2,
      "outputs": [
        {
          "output_type": "stream",
          "name": "stdout",
          "text": [
            "Halo Dunia\n",
            "Riset Bahasa Python\n"
          ]
        }
      ]
    },
    {
      "cell_type": "markdown",
      "source": [
        "[Struktur Program Python - Part 1](https://academy.dqlab.id/main/livecode/157/283/1249?pr=0)"
      ],
      "metadata": {
        "id": "_LtYnSXIC0Uo"
      }
    },
    {
      "cell_type": "code",
      "source": [
        "# Statement\n",
        "print(\"Belajar Python menyenangkan\") \n",
        "print(\"Halo Dunia\")\n",
        "print(\"Hello World!\")\n",
        "# Variables & Literals\n",
        "bilangan1 \t= 5\n",
        "bilangan2 \t= 10\n",
        "kalimat1 \t= \"Belajar Bahasa Python\"\n",
        "# Operators\n",
        "print(bilangan1 + bilangan2)"
      ],
      "metadata": {
        "colab": {
          "base_uri": "https://localhost:8080/"
        },
        "id": "XRRi9cdIDFMs",
        "outputId": "feabfa5d-d630-4911-b0d8-d2d3b447a839"
      },
      "execution_count": 3,
      "outputs": [
        {
          "output_type": "stream",
          "name": "stdout",
          "text": [
            "Belajar Python menyenangkan\n",
            "Halo Dunia\n",
            "Hello World!\n",
            "15\n"
          ]
        }
      ]
    },
    {
      "cell_type": "markdown",
      "source": [
        "[Tugas Praktek - Deklarasi Variabel](https://academy.dqlab.id/main/livecode/157/283/1250?pr=0)"
      ],
      "metadata": {
        "id": "3tlofqAODFhr"
      }
    },
    {
      "cell_type": "code",
      "source": [
        "bilangan1 = 20\n",
        "bilangan2 = 10\n",
        "print(bilangan1 - bilangan2)"
      ],
      "metadata": {
        "colab": {
          "base_uri": "https://localhost:8080/"
        },
        "id": "lM1BORmEDLiV",
        "outputId": "3c296432-fa18-4c1a-c673-43089cfac25c"
      },
      "execution_count": 4,
      "outputs": [
        {
          "output_type": "stream",
          "name": "stdout",
          "text": [
            "10\n"
          ]
        }
      ]
    },
    {
      "cell_type": "markdown",
      "source": [
        "[Tugas Praktek - Kalkulator Sederhana](https://academy.dqlab.id/main/livecode/157/283/1251?pr=0)"
      ],
      "metadata": {
        "id": "qIOtQbguDM1b"
      }
    },
    {
      "cell_type": "code",
      "source": [
        "harga_asli \t= 20000\n",
        "potongan \t= 2000\n",
        "harga_setelah_potongan = harga_asli-potongan\n",
        "harga_final = harga_setelah_potongan*1.1\n",
        "print(harga_final)"
      ],
      "metadata": {
        "colab": {
          "base_uri": "https://localhost:8080/"
        },
        "id": "n_kpudEkDQSF",
        "outputId": "69edf92c-ffde-41a3-b494-8ad692ad5cf0"
      },
      "execution_count": 5,
      "outputs": [
        {
          "output_type": "stream",
          "name": "stdout",
          "text": [
            "19800.0\n"
          ]
        }
      ]
    },
    {
      "cell_type": "markdown",
      "source": [
        "BAB 2: Python Variables & Data Types"
      ],
      "metadata": {
        "id": "-oEVHOmdCZoH"
      }
    },
    {
      "cell_type": "markdown",
      "source": [
        "[Sequence Type – Part 1](https://academy.dqlab.id/main/livecode/157/284/1262?pr=0)"
      ],
      "metadata": {
        "id": "Tkt2wk7IDcfX"
      }
    },
    {
      "cell_type": "code",
      "source": [
        "contoh_list \t  = [1, 'dua', 3, 4.0, 5]\n",
        "print(contoh_list[0])\n",
        "print(contoh_list[3])\n",
        "contoh_list \t  = [1, 'dua', 3, 4.0, 5]\n",
        "contoh_list[3] \t= 'empat'\n",
        "print(contoh_list[3])"
      ],
      "metadata": {
        "colab": {
          "base_uri": "https://localhost:8080/"
        },
        "id": "m3-JewsdSz9b",
        "outputId": "2302671f-c0e3-41f1-b0a1-a967e8495e4b"
      },
      "execution_count": 6,
      "outputs": [
        {
          "output_type": "stream",
          "name": "stdout",
          "text": [
            "1\n",
            "4.0\n",
            "empat\n"
          ]
        }
      ]
    },
    {
      "cell_type": "markdown",
      "source": [
        "[Sequence Type – Part 2](https://academy.dqlab.id/main/livecode/157/284/1263?pr=0)"
      ],
      "metadata": {
        "id": "3mWuhFhUDlmL"
      }
    },
    {
      "cell_type": "code",
      "source": [
        "contoh_tuple    = ('Januari', 'Februari', 'Maret', 'April')\n",
        "print(contoh_tuple[0])\n",
        "contoh_tuple    = ('Januari', 'Februari', 'Maret', 'April')\n",
        "contoh_tuple[0] = 'Desember'"
      ],
      "metadata": {
        "colab": {
          "base_uri": "https://localhost:8080/",
          "height": 217
        },
        "id": "sdwtpeEHDlSy",
        "outputId": "88ab0aa1-3343-4b74-a25c-34ed8d26b29c"
      },
      "execution_count": 7,
      "outputs": [
        {
          "output_type": "stream",
          "name": "stdout",
          "text": [
            "Januari\n"
          ]
        },
        {
          "output_type": "error",
          "ename": "TypeError",
          "evalue": "ignored",
          "traceback": [
            "\u001b[0;31m---------------------------------------------------------------------------\u001b[0m",
            "\u001b[0;31mTypeError\u001b[0m                                 Traceback (most recent call last)",
            "\u001b[0;32m<ipython-input-7-d044990f1621>\u001b[0m in \u001b[0;36m<module>\u001b[0;34m\u001b[0m\n\u001b[1;32m      2\u001b[0m \u001b[0mprint\u001b[0m\u001b[0;34m(\u001b[0m\u001b[0mcontoh_tuple\u001b[0m\u001b[0;34m[\u001b[0m\u001b[0;36m0\u001b[0m\u001b[0;34m]\u001b[0m\u001b[0;34m)\u001b[0m\u001b[0;34m\u001b[0m\u001b[0;34m\u001b[0m\u001b[0m\n\u001b[1;32m      3\u001b[0m \u001b[0mcontoh_tuple\u001b[0m    \u001b[0;34m=\u001b[0m \u001b[0;34m(\u001b[0m\u001b[0;34m'Januari'\u001b[0m\u001b[0;34m,\u001b[0m \u001b[0;34m'Februari'\u001b[0m\u001b[0;34m,\u001b[0m \u001b[0;34m'Maret'\u001b[0m\u001b[0;34m,\u001b[0m \u001b[0;34m'April'\u001b[0m\u001b[0;34m)\u001b[0m\u001b[0;34m\u001b[0m\u001b[0;34m\u001b[0m\u001b[0m\n\u001b[0;32m----> 4\u001b[0;31m \u001b[0mcontoh_tuple\u001b[0m\u001b[0;34m[\u001b[0m\u001b[0;36m0\u001b[0m\u001b[0;34m]\u001b[0m \u001b[0;34m=\u001b[0m \u001b[0;34m'Desember'\u001b[0m\u001b[0;34m\u001b[0m\u001b[0;34m\u001b[0m\u001b[0m\n\u001b[0m",
            "\u001b[0;31mTypeError\u001b[0m: 'tuple' object does not support item assignment"
          ]
        }
      ]
    },
    {
      "cell_type": "markdown",
      "source": [
        "[Set Type](https://academy.dqlab.id/main/livecode/157/284/1264?pr=0)"
      ],
      "metadata": {
        "id": "lbK2lhPyDq8M"
      }
    },
    {
      "cell_type": "code",
      "source": [
        "contoh_list       = ['Dewi', 'Budi', 'Cici', 'Linda', 'Cici']\n",
        "print(contoh_list)\n",
        "contoh_set        = {'Dewi', 'Budi', 'Cici', 'Linda', 'Cici'}\n",
        "print(contoh_set)\n",
        "contoh_frozen_set = ({'Dewi', 'Budi', 'Cici', 'Linda', 'Cici'})\n",
        "print(contoh_frozen_set)"
      ],
      "metadata": {
        "colab": {
          "base_uri": "https://localhost:8080/"
        },
        "id": "DopIowQKDych",
        "outputId": "c19cb71e-bbac-49c6-8068-500c37a05845"
      },
      "execution_count": 8,
      "outputs": [
        {
          "output_type": "stream",
          "name": "stdout",
          "text": [
            "['Dewi', 'Budi', 'Cici', 'Linda', 'Cici']\n",
            "{'Cici', 'Linda', 'Budi', 'Dewi'}\n",
            "{'Cici', 'Linda', 'Budi', 'Dewi'}\n"
          ]
        }
      ]
    },
    {
      "cell_type": "markdown",
      "source": [
        "[Mapping Type](https://academy.dqlab.id/main/livecode/157/284/1265?pr=0)"
      ],
      "metadata": {
        "id": "6ovmM3fvDy4c"
      }
    },
    {
      "cell_type": "code",
      "source": [
        "person = {'nama': 'John Doe', 'pekerjaan': 'Programmer'}\n",
        "print(person['nama'])\n",
        "print(person['pekerjaan'])"
      ],
      "metadata": {
        "colab": {
          "base_uri": "https://localhost:8080/"
        },
        "id": "_zAdBwwrD7ht",
        "outputId": "15f7b086-08d4-4d6d-9a26-fa0aba14d96c"
      },
      "execution_count": 9,
      "outputs": [
        {
          "output_type": "stream",
          "name": "stdout",
          "text": [
            "John Doe\n",
            "Programmer\n"
          ]
        }
      ]
    },
    {
      "cell_type": "markdown",
      "source": [
        "[Tugas Praktek - Dictionary](https://academy.dqlab.id/main/livecode/157/284/1266?pr=0)"
      ],
      "metadata": {
        "id": "jwiBXV7KD8BI"
      }
    },
    {
      "cell_type": "code",
      "source": [
        "sepatu  = {\"nama\": \"Sepatu Niko\", \"harga\": 150000, \"diskon\": 30000 }\n",
        "baju    = {\"nama\": \"Baju Unikloh\", \"harga\": 80000, \"diskon\": 8000 }\n",
        "celana  = {\"nama\": \"Celana Lepis\", \"harga\": 200000, \"diskon\": 60000 }"
      ],
      "metadata": {
        "id": "ByyUQzEqEBnI"
      },
      "execution_count": 10,
      "outputs": []
    },
    {
      "cell_type": "markdown",
      "source": [
        "[Tugas Praktek - List](https://academy.dqlab.id/main/livecode/157/284/1267?pr=0)"
      ],
      "metadata": {
        "id": "tAyhbPyGEB4I"
      }
    },
    {
      "cell_type": "code",
      "source": [
        "sepatu          = {\"nama\": \"Sepatu Niko\", \"harga\": 150000, \"diskon\": 30000} \n",
        "baju            = {\"nama\": \"Baju Unikloh\", \"harga\": 80000, \"diskon\": 8000} \n",
        "celana          = {\"nama\": \"Celana Lepis\", \"harga\": 200000, \"diskon\": 60000} \n",
        "daftar_belanja  = [sepatu, baju, celana]"
      ],
      "metadata": {
        "id": "r4tnCZIbECV7"
      },
      "execution_count": 11,
      "outputs": []
    },
    {
      "cell_type": "markdown",
      "source": [
        "[Tugas Praktek - Dictionary Hitung Pajak](https://academy.dqlab.id/main/livecode/157/284/1268?pr=0)"
      ],
      "metadata": {
        "id": "f4ow5i1CECn0"
      }
    },
    {
      "cell_type": "code",
      "source": [
        "# Data yang dinyatakan ke dalam dictionary\n",
        "sepatu        = {\"nama\": \"Sepatu Niko\", \"harga\": 150000, \"diskon\": 30000} \n",
        "baju          = {\"nama\": \"Baju Unikloh\", \"harga\": 80000, \"diskon\": 8000} \n",
        "celana        = {\"nama\": \"Celana Lepis\", \"harga\": 200000, \"diskon\": 60000}\n",
        "# Hitunglah harga masing-masing data setelah dikurangi diskon\n",
        "harga_sepatu  = sepatu[\"harga\"] - sepatu[\"diskon\"] \n",
        "harga_baju    = baju[\"harga\"] - baju[\"diskon\"]\n",
        "harga_celana  = celana[\"harga\"] - celana[\"diskon\"]\n",
        "# Hitung harga total\n",
        "total_harga   = harga_sepatu + harga_baju + harga_celana\n",
        "# Hitung harga kena pajak\n",
        "total_pajak   = total_harga * 0.1\n",
        "# Cetak total_harga + total_pajak\n",
        "print(total_harga+total_pajak)"
      ],
      "metadata": {
        "colab": {
          "base_uri": "https://localhost:8080/"
        },
        "id": "PvNrTY48EJvc",
        "outputId": "86c03abb-4797-4b1a-a74a-6ac30952e873"
      },
      "execution_count": 12,
      "outputs": [
        {
          "output_type": "stream",
          "name": "stdout",
          "text": [
            "365200.0\n"
          ]
        }
      ]
    },
    {
      "cell_type": "markdown",
      "source": [
        "BAB 3: Python Operators"
      ],
      "metadata": {
        "id": "cnyxYYDQCb_z"
      }
    },
    {
      "cell_type": "markdown",
      "source": [
        "[Nilai Prioritas Operator dalam Python – Part 1](https://academy.dqlab.id/main/livecode/157/293/1295?pr=0)"
      ],
      "metadata": {
        "id": "mg4C4qEUEwAU"
      }
    },
    {
      "cell_type": "code",
      "source": [
        "# Kode awal\n",
        "total_harga     = 150000\n",
        "potongan_harga  = 0.3\n",
        "pajak           = 0.1 # pajak dalam persen ~ 10%\n",
        "harga_bayar     = 1 - potongan_harga # baris pertama\n",
        "harga_bayar     *= total_harga # baris kedua\n",
        "pajak_bayar     = pajak * harga_bayar # baris ketiga\n",
        "harga_bayar     += pajak_bayar # baris ke-4\n",
        "print(\"Kode awal - harga_bayar=\", harga_bayar)\n",
        "# Penyederhanaan baris kode dengan menerapkan prioritas operator\n",
        "total_harga     = 150000\n",
        "potongan_harga  = 0.3\n",
        "pajak           = 0.1 # pajak dalam persen ~ 10%\n",
        "harga_bayar     = (1 - potongan_harga) * total_harga #baris pertama \n",
        "harga_bayar     += harga_bayar * pajak # baris kedua\n",
        "print(\"Penyederhanaan kode - harga_bayar=\", harga_bayar)"
      ],
      "metadata": {
        "colab": {
          "base_uri": "https://localhost:8080/"
        },
        "id": "5zA-x0EdE6JO",
        "outputId": "df137e3a-3907-4fb9-f1ff-a08d3db911dd"
      },
      "execution_count": 13,
      "outputs": [
        {
          "output_type": "stream",
          "name": "stdout",
          "text": [
            "Kode awal - harga_bayar= 115500.0\n",
            "Penyederhanaan kode - harga_bayar= 115500.0\n"
          ]
        }
      ]
    },
    {
      "cell_type": "markdown",
      "source": [
        "[Tugas Praktek - Operator Hitung Pajak](https://academy.dqlab.id/main/livecode/157/293/1298?pr=0)"
      ],
      "metadata": {
        "id": "hslecoFkE6gD"
      }
    },
    {
      "cell_type": "code",
      "source": [
        "sepatu        = { \"nama\" : \"Sepatu Niko\", \"harga\": 150000, \"diskon\": 30000 }\n",
        "baju          = { \"nama\" : \"Baju Unikloh\", \"harga\": 80000, \"diskon\": 8000 }\n",
        "celana        = { \"nama\" : \"Celana Lepis\", \"harga\": 200000, \"diskon\": 60000 }\n",
        "harga_sepatu  = sepatu[\"harga\"] - sepatu[\"diskon\"]\n",
        "harga_baju    = baju[\"harga\"] - baju[\"diskon\"]\n",
        "harga_celana  = celana[\"harga\"] - celana[\"diskon\"]\n",
        "total_harga   = (harga_sepatu + harga_baju + harga_celana) * 1.1\n",
        "print(total_harga)"
      ],
      "metadata": {
        "colab": {
          "base_uri": "https://localhost:8080/"
        },
        "id": "M1UwcMmCE__U",
        "outputId": "90741f15-3c04-4ddb-efa2-5847c4df55d8"
      },
      "execution_count": 14,
      "outputs": [
        {
          "output_type": "stream",
          "name": "stdout",
          "text": [
            "365200.00000000006\n"
          ]
        }
      ]
    },
    {
      "cell_type": "markdown",
      "source": [
        "BAB 4: Pythons Conditioning & Looping"
      ],
      "metadata": {
        "id": "HyiU7sV7Cd2g"
      }
    },
    {
      "cell_type": "markdown",
      "source": [
        "[Python Conditioning for Decision – Part 2](https://academy.dqlab.id/main/livecode/157/294/1300?pr=0)"
      ],
      "metadata": {
        "id": "LIk7srWOFD_y"
      }
    },
    {
      "cell_type": "code",
      "source": [
        "# Statement if\n",
        "x = 4\n",
        "if x % 2 == 0: # jika sisa bagi x dengan 2 sama dengan 0\n",
        "    print(\"x habis dibagi dua\") # statemen aksi lebih menjorok ke dalam\n",
        "# Statement if ... elif ... else\n",
        "x = 7\n",
        "if x % 2 == 0: # jika sisa bagi x dengan 2 sama dengan 0\n",
        "    print(\"x habis dibagi dua\")\n",
        "elif x % 3 == 0: # jika sisa bagi x dengan 3 sama dengan 0\n",
        "    print(\"x habis dibagi tiga\")\n",
        "elif x % 5 == 0: # jika sisa bagi x dengan 5 sama dengan 0\n",
        "    print(\"x habis dibagi lima\")\n",
        "else:\n",
        "    print(\"x tidak habis dibagi dua, tiga ataupun lima\")"
      ],
      "metadata": {
        "colab": {
          "base_uri": "https://localhost:8080/"
        },
        "id": "5Alm2w5mQzlO",
        "outputId": "311b3dc3-1c35-42ca-a95b-06c125d9f155"
      },
      "execution_count": 15,
      "outputs": [
        {
          "output_type": "stream",
          "name": "stdout",
          "text": [
            "x habis dibagi dua\n",
            "x tidak habis dibagi dua, tiga ataupun lima\n"
          ]
        }
      ]
    },
    {
      "cell_type": "markdown",
      "source": [
        "[Python Conditioning for Decision – Part 3](https://academy.dqlab.id/main/livecode/157/294/1301?pr=0)"
      ],
      "metadata": {
        "id": "jjycCGGuQ02o"
      }
    },
    {
      "cell_type": "code",
      "source": [
        "jam = 13\n",
        "if jam >= 5 and jam < 12: # selama jam di antara 5 s.d. 12\n",
        "    print(\"Selamat pagi!\")\n",
        "elif jam >= 12 and jam < 17: # selama jam di antara 12 s.d. 17\n",
        "    print(\"Selamat siang!\")\n",
        "elif jam >= 17 and jam < 19: # selama jam di antara 17 s.d. 19\n",
        "    print(\"Selamat sore!\")\n",
        "else: # selain kondisi di atas\n",
        "    print(\"Selamat malam!\")"
      ],
      "metadata": {
        "colab": {
          "base_uri": "https://localhost:8080/"
        },
        "id": "m_eZR-p2Q66U",
        "outputId": "f77bead3-0acd-4b9f-8cca-b06037977763"
      },
      "execution_count": 16,
      "outputs": [
        {
          "output_type": "stream",
          "name": "stdout",
          "text": [
            "Selamat siang!\n"
          ]
        }
      ]
    },
    {
      "cell_type": "markdown",
      "source": [
        "[Tugas Praktek - Tagihan Pembayaran](https://academy.dqlab.id/main/livecode/157/294/1302?pr=0)"
      ],
      "metadata": {
        "id": "Wqz_l6NMQ7SQ"
      }
    },
    {
      "cell_type": "code",
      "source": [
        "tagihan_ke      = 'Mr. Yoyo'\n",
        "warehousing     = { 'harga_harian': 1000000, 'total_hari':15 } \n",
        "cleansing       = { 'harga_harian': 1500000, 'total_hari':10 } \n",
        "integration     = { 'harga_harian':2000000, 'total_hari':15 } \n",
        "transform       = { 'harga_harian':2500000, 'total_hari':10 }\n",
        "sub_warehousing = warehousing['harga_harian'] * warehousing['total_hari']\n",
        "sub_cleansing   = cleansing['harga_harian'] * cleansing['total_hari'] \n",
        "sub_integration = integration['harga_harian'] * integration['total_hari']\n",
        "sub_transform   = transform['harga_harian'] * transform['total_hari']\n",
        "total_harga     = sub_warehousing + sub_cleansing + sub_integration + sub_transform\n",
        "print(\"Tagihan kepada:\") \n",
        "print(tagihan_ke)\n",
        "print(\"Selamat pagi, anda harus membayar tagihan sebesar:\") \n",
        "print(total_harga)"
      ],
      "metadata": {
        "colab": {
          "base_uri": "https://localhost:8080/"
        },
        "id": "LyGm3Bt_RCPE",
        "outputId": "d0a20334-3d54-47f0-b947-c9b5089efe95"
      },
      "execution_count": 17,
      "outputs": [
        {
          "output_type": "stream",
          "name": "stdout",
          "text": [
            "Tagihan kepada:\n",
            "Mr. Yoyo\n",
            "Selamat pagi, anda harus membayar tagihan sebesar:\n",
            "85000000\n"
          ]
        }
      ]
    },
    {
      "cell_type": "markdown",
      "source": [
        "[Tugas Praktek - Percabangan](https://academy.dqlab.id/main/livecode/157/294/1303?pr=0)"
      ],
      "metadata": {
        "id": "f7QcYwVdRC4k"
      }
    },
    {
      "cell_type": "code",
      "source": [
        "jam             = 17\n",
        "tagihan_ke      = 'Mr. Yoyo'\n",
        "warehousing     = { 'harga_harian': 1000000, 'total_hari':15 } \n",
        "cleansing       = { 'harga_harian': 1500000, 'total_hari':10 } \n",
        "integration     = { 'harga_harian':2000000, 'total_hari':15 } \n",
        "transform       = { 'harga_harian':2500000, 'total_hari':10 }\n",
        "sub_warehousing = warehousing['harga_harian']*warehousing['total_hari'] \n",
        "sub_cleansing   = cleansing['harga_harian']*cleansing['total_hari'] \n",
        "sub_integration = integration['harga_harian']*integration['total_hari'] \n",
        "sub_transform   = transform['harga_harian']*transform['total_hari']\n",
        "total_harga     = sub_warehousing+sub_cleansing+sub_integration+sub_transform\n",
        "print(\"Tagihan kepada:\")\n",
        "print(tagihan_ke)\n",
        "if jam>19:\n",
        "    print(\"Selamat malam, anda harus membayar tagihan sebesar:\")\n",
        "elif jam>17:\n",
        "    print(\"Selamat sore, anda harus membayar tagihan sebesar:\") \n",
        "elif jam>12:\n",
        "    print(\"Selamat siang, anda harus membayar tagihan sebesar:\")\n",
        "else:\n",
        "    print(\"Selamat pagi, anda harus membayar tagihan sebesar:\") \n",
        "print(total_harga)"
      ],
      "metadata": {
        "colab": {
          "base_uri": "https://localhost:8080/"
        },
        "id": "7rhWbntRRJn3",
        "outputId": "ce1c4786-c26f-4795-e7ae-c4c5f3881bf6"
      },
      "execution_count": 18,
      "outputs": [
        {
          "output_type": "stream",
          "name": "stdout",
          "text": [
            "Tagihan kepada:\n",
            "Mr. Yoyo\n",
            "Selamat siang, anda harus membayar tagihan sebesar:\n",
            "85000000\n"
          ]
        }
      ]
    },
    {
      "cell_type": "markdown",
      "source": [
        "[Python while loops – Part 1](https://academy.dqlab.id/main/livecode/157/294/1305?pr=0)"
      ],
      "metadata": {
        "id": "CERyNQQeRKET"
      }
    },
    {
      "cell_type": "code",
      "source": [
        "# Tagihan\n",
        "tagihan         = [50000, 75000, 125000, 300000, 200000]\n",
        "# Tanpa menggunakan while loop\n",
        "total_tagihan   = tagihan[0]+tagihan[1]+tagihan[2]+tagihan[3]+tagihan[4]\n",
        "print(total_tagihan)\n",
        "# Dengan menggunakan while loop\n",
        "i               = 0 # sebuah variabel untuk mengakses setiap elemen tagihan satu per satu\n",
        "jumlah_tagihan  = len(tagihan) # panjang (jumlah elemen dalam) list tagihan\n",
        "total_tagihan   = 0 # mula-mula, set total_tagihan ke 0\n",
        "while i < jumlah_tagihan: # selama nilai i kurang dari jumlah_tagihan\n",
        "    total_tagihan += tagihan[i] # tambahkan tagihan[i] ke total_tagihan\n",
        "    i += 1 # tambahkan nilai i dengan 1 untuk memproses tagihan selanjutnya.\n",
        "print(total_tagihan)"
      ],
      "metadata": {
        "colab": {
          "base_uri": "https://localhost:8080/"
        },
        "id": "pV59PeYGRQsI",
        "outputId": "0cf86cf8-1c9b-4e66-adf8-e6eb18e4914d"
      },
      "execution_count": 19,
      "outputs": [
        {
          "output_type": "stream",
          "name": "stdout",
          "text": [
            "750000\n",
            "750000\n"
          ]
        }
      ]
    },
    {
      "cell_type": "markdown",
      "source": [
        "[Python while loops – Part 2](https://academy.dqlab.id/main/livecode/157/294/1306?pr=0)"
      ],
      "metadata": {
        "id": "Exll0I8PRRAa"
      }
    },
    {
      "cell_type": "code",
      "source": [
        "tagihan         = [50000, 75000, -150000, 125000, 300000, -50000, 200000]\n",
        "i               = 0\n",
        "jumlah_tagihan  = len(tagihan)\n",
        "total_tagihan   = 0\n",
        "while i < jumlah_tagihan:\n",
        "    # jika terdapat tagihan ke-i yang bernilai minus (di bawah nol),\n",
        "    # pengulangan akan dihentikan\n",
        "    if tagihan[i] < 0:\n",
        "        total_tagihan = -1\n",
        "        print(\"terdapat angka minus dalam tagihan, perhitungan dihentikan!\")\n",
        "        break\n",
        "    total_tagihan += tagihan[i]\n",
        "    i += 1\n",
        "print(total_tagihan)"
      ],
      "metadata": {
        "colab": {
          "base_uri": "https://localhost:8080/"
        },
        "id": "QACSAasVRW3o",
        "outputId": "f4630434-614c-4034-e6ab-08b81dec73d9"
      },
      "execution_count": 20,
      "outputs": [
        {
          "output_type": "stream",
          "name": "stdout",
          "text": [
            "terdapat angka minus dalam tagihan, perhitungan dihentikan!\n",
            "-1\n"
          ]
        }
      ]
    },
    {
      "cell_type": "markdown",
      "source": [
        "[Python while loops – Part 3](https://academy.dqlab.id/main/livecode/157/294/1307?pr=0)"
      ],
      "metadata": {
        "id": "lOLZ4bLDRXSF"
      }
    },
    {
      "cell_type": "code",
      "source": [
        "tagihan         = [50000, 75000, -150000, 125000, 300000, -50000, 200000]\n",
        "i               = 0\n",
        "jumlah_tagihan  = len(tagihan)\n",
        "total_tagihan   = 0\n",
        "while i < jumlah_tagihan:\n",
        "    # jika terdapat tagihan ke-i yang bernilai minus (di bawah nol),\n",
        "    # abaikan tagihan ke-i dan lanjutkan ke tagihan berikutnya\n",
        "    if tagihan[i] < 0:\n",
        "        i += 1\n",
        "        continue\n",
        "    total_tagihan += tagihan[i]\n",
        "    i += 1\n",
        "print(total_tagihan)"
      ],
      "metadata": {
        "colab": {
          "base_uri": "https://localhost:8080/"
        },
        "id": "jZp0UfU_Rd0c",
        "outputId": "df5be0c8-7ca4-4f1c-d032-fcf1aae9ea14"
      },
      "execution_count": 21,
      "outputs": [
        {
          "output_type": "stream",
          "name": "stdout",
          "text": [
            "750000\n"
          ]
        }
      ]
    },
    {
      "cell_type": "markdown",
      "source": [
        "[Python for loops – Part 1](https://academy.dqlab.id/main/livecode/157/294/1308?pr=0)"
      ],
      "metadata": {
        "id": "svf8ZhuHRePg"
      }
    },
    {
      "cell_type": "code",
      "source": [
        "list_tagihan  = [50000, 75000, -150000, 125000, 300000, -50000, 200000]\n",
        "total_tagihan = 0\n",
        "for tagihan in list_tagihan: # untuk setiap tagihan dalam list_tagihan\n",
        "    total_tagihan += tagihan # tambahkan tagihan ke total_tagihan\n",
        "print(total_tagihan)"
      ],
      "metadata": {
        "colab": {
          "base_uri": "https://localhost:8080/"
        },
        "id": "VPZ9z41FRkiI",
        "outputId": "af751a5d-7131-4c80-bdf1-56421091630d"
      },
      "execution_count": 22,
      "outputs": [
        {
          "output_type": "stream",
          "name": "stdout",
          "text": [
            "550000\n"
          ]
        }
      ]
    },
    {
      "cell_type": "markdown",
      "source": [
        "[Python for loops – Part 2](https://academy.dqlab.id/main/livecode/157/294/1309?pr=0)"
      ],
      "metadata": {
        "id": "cqkK4ooDRlIh"
      }
    },
    {
      "cell_type": "code",
      "source": [
        "list_tagihan = [50000, 75000, -150000, 125000, 300000, -50000, 200000]\n",
        "\n",
        "# For loops with break\n",
        "print(\"For loops with break\")\n",
        "total_tagihan_break = 0\n",
        "for tagihan in list_tagihan:\n",
        "    if tagihan < 0:\n",
        "        print(\"Terdapat angka minus dalam tagihan, perhitungan dihentikan!\")\n",
        "        break\n",
        "    total_tagihan_break += tagihan\n",
        "print(\"Total tagihan %d.\" % total_tagihan_break)\n",
        "print()\n",
        "\n",
        "# For loops with continue\n",
        "print(\"For loops with continue\")\n",
        "total_tagihan_continue = 0\n",
        "for tagihan in list_tagihan:\n",
        "    if tagihan < 0:\n",
        "        print(\"Terdapat angka minus dalam tagihan, tagihan %d dilewati!\" % tagihan)\n",
        "        continue\n",
        "    total_tagihan_continue += tagihan\n",
        "print(\"Total tagihan %d.\" % total_tagihan_continue)"
      ],
      "metadata": {
        "colab": {
          "base_uri": "https://localhost:8080/"
        },
        "id": "J94gYgubRqVg",
        "outputId": "8a1af805-c8fe-4d81-b513-051635284958"
      },
      "execution_count": 23,
      "outputs": [
        {
          "output_type": "stream",
          "name": "stdout",
          "text": [
            "For loops with break\n",
            "Terdapat angka minus dalam tagihan, perhitungan dihentikan!\n",
            "Total tagihan 125000.\n",
            "\n",
            "For loops with continue\n",
            "Terdapat angka minus dalam tagihan, tagihan -150000 dilewati!\n",
            "Terdapat angka minus dalam tagihan, tagihan -50000 dilewati!\n",
            "Total tagihan 750000.\n"
          ]
        }
      ]
    },
    {
      "cell_type": "markdown",
      "source": [
        "[Python for loops – Part 3](https://academy.dqlab.id/main/livecode/157/294/1310?pr=0)"
      ],
      "metadata": {
        "id": "h8wbDcnORqsZ"
      }
    },
    {
      "cell_type": "code",
      "source": [
        "list_daerah = ['Malang', 'Palembang', 'Medan']\n",
        "list_buah   = ['Apel', 'Duku', 'Jeruk']\n",
        "for nama_daerah in list_daerah:\n",
        "    for nama_buah in list_buah:\n",
        "        print(nama_buah+\" \"+nama_daerah)"
      ],
      "metadata": {
        "colab": {
          "base_uri": "https://localhost:8080/"
        },
        "id": "lp84NKACR8L9",
        "outputId": "5ab01807-33cf-4aeb-c48e-31d436f17531"
      },
      "execution_count": 24,
      "outputs": [
        {
          "output_type": "stream",
          "name": "stdout",
          "text": [
            "Apel Malang\n",
            "Duku Malang\n",
            "Jeruk Malang\n",
            "Apel Palembang\n",
            "Duku Palembang\n",
            "Jeruk Palembang\n",
            "Apel Medan\n",
            "Duku Medan\n",
            "Jeruk Medan\n"
          ]
        }
      ]
    },
    {
      "cell_type": "markdown",
      "source": [
        "[Tugas Praktek - Perulangan](https://academy.dqlab.id/main/livecode/157/294/1311?pr=0)"
      ],
      "metadata": {
        "id": "T1v5B4TiR8hA"
      }
    },
    {
      "cell_type": "code",
      "source": [
        "list_cash_flow = [\n",
        "2500000, 5000000, -1000000, -2500000, 5000000, 10000000,\n",
        "-5000000, 7500000, 10000000, -1500000, 25000000, -2500000\n",
        "]\n",
        "total_pengeluaran, total_pemasukan = 0, 0\n",
        "for dana in list_cash_flow:\n",
        "    if dana > 0:\n",
        "        total_pemasukan += dana\n",
        "    else:\n",
        "        total_pengeluaran += dana\n",
        "total_pengeluaran *= -1\n",
        "print(total_pengeluaran) \n",
        "print(total_pemasukan)"
      ],
      "metadata": {
        "colab": {
          "base_uri": "https://localhost:8080/"
        },
        "id": "6fyi-ljySAlE",
        "outputId": "b46d6b4a-a265-41c0-f32e-0a669cb07826"
      },
      "execution_count": 25,
      "outputs": [
        {
          "output_type": "stream",
          "name": "stdout",
          "text": [
            "12500000\n",
            "65000000\n"
          ]
        }
      ]
    },
    {
      "cell_type": "markdown",
      "source": [
        "BAB 5: Mini Quiz"
      ],
      "metadata": {
        "id": "fC1RSydhCfl-"
      }
    },
    {
      "cell_type": "markdown",
      "source": [
        "[Ekspedisi Pamanku](https://academy.dqlab.id/main/livecode/157/295/1313?pr=0)"
      ],
      "metadata": {
        "id": "pewtZe1DSD7w"
      }
    },
    {
      "cell_type": "code",
      "source": [
        "# Data\n",
        "uang_jalan        = 1500000\n",
        "jumlah_hari       = 31\n",
        "list_plat_nomor   = [8993, 2198, 2501, 2735, 3772, 4837, 9152]\n",
        "# Pengecekan kendaraan dengan nomor pelat ganjil atau genap \n",
        "# Deklarasikan kendaraan_genap dan kendaraan_ganjil = 0\n",
        "kendaraan_genap   = 0\n",
        "kendaraan_ganjil  = 0\n",
        "for plat_nomor in list_plat_nomor:\n",
        "    if plat_nomor % 2 == 0:\n",
        "        kendaraan_genap += 1\n",
        "    else:\n",
        "        kendaraan_ganjil += 1\n",
        "# Total pengeluaran untuk kendaraan dengan nomor pelat ganjil \n",
        "# dan genap dalam 1 bulan\n",
        "i = 1\n",
        "total_pengeluaran = 0\n",
        "while i <= jumlah_hari:\n",
        "    if i % 2 == 0:\n",
        "        total_pengeluaran += (kendaraan_genap * uang_jalan)\n",
        "    else:\n",
        "        total_pengeluaran += (kendaraan_ganjil * uang_jalan) \n",
        "    i += 1\n",
        "# Cetak total pengeluaran\n",
        "print(total_pengeluaran)"
      ],
      "metadata": {
        "colab": {
          "base_uri": "https://localhost:8080/"
        },
        "id": "43-4yyT6SMj3",
        "outputId": "410c9dd4-6ee0-4aa6-b492-0932858021ef"
      },
      "execution_count": 26,
      "outputs": [
        {
          "output_type": "stream",
          "name": "stdout",
          "text": [
            "163500000\n"
          ]
        }
      ]
    }
  ]
}